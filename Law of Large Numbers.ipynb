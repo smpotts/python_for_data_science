{
 "cells": [
  {
   "cell_type": "code",
   "execution_count": 21,
   "id": "3b7691ed-8f30-427f-b960-edd9abc3e48e",
   "metadata": {},
   "outputs": [
    {
     "name": "stdout",
     "output_type": "stream",
     "text": [
      "0.687\n"
     ]
    }
   ],
   "source": [
    "import numpy as np\n",
    "from numpy.random import randn\n",
    "\n",
    "n = 1000\n",
    "counter = 0\n",
    "for i in randn(n):\n",
    "    if (i > -1 and i < 1):\n",
    "        counter += 1\n",
    "\n",
    "print(counter/n)"
   ]
  }
 ],
 "metadata": {
  "kernelspec": {
   "display_name": "Python 3 (ipykernel)",
   "language": "python",
   "name": "python3"
  },
  "language_info": {
   "codemirror_mode": {
    "name": "ipython",
    "version": 3
   },
   "file_extension": ".py",
   "mimetype": "text/x-python",
   "name": "python",
   "nbconvert_exporter": "python",
   "pygments_lexer": "ipython3",
   "version": "3.11.6"
  }
 },
 "nbformat": 4,
 "nbformat_minor": 5
}
